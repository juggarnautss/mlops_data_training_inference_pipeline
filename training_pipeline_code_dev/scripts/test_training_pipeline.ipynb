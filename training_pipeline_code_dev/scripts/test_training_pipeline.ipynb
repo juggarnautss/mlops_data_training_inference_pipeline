{
 "cells": [
  {
   "cell_type": "code",
   "execution_count": 1,
   "id": "7e686f61-74cb-44b6-9d4d-1a1364fa0ebe",
   "metadata": {},
   "outputs": [],
   "source": [
    "import pandas as pd\n",
    "import os\n",
    "import sqlite3\n",
    "from sqlite3 import Error"
   ]
  },
  {
   "cell_type": "code",
   "execution_count": 3,
   "id": "881aa70a-bcdc-47f2-8b30-3c6e80adc96e",
   "metadata": {},
   "outputs": [],
   "source": [
    "from constants import * \n",
    "from utils import *"
   ]
  },
  {
   "cell_type": "code",
   "execution_count": 4,
   "id": "62ea6f21-b62f-480c-bac1-ef63f3a19cc0",
   "metadata": {},
   "outputs": [
    {
     "name": "stdout",
     "output_type": "stream",
     "text": [
      "/home/Assignment/02_training_pipeline/scripts/\n",
      "lead_scoring_data_cleaning.db\n"
     ]
    }
   ],
   "source": [
    "print(DB_PATH)\n",
    "print(DB_FILE_NAME)"
   ]
  },
  {
   "cell_type": "code",
   "execution_count": 5,
   "id": "5a7bd841-70d2-4274-978f-6e7d88f4f8ab",
   "metadata": {},
   "outputs": [
    {
     "name": "stdout",
     "output_type": "stream",
     "text": [
      "(4, 1)\n"
     ]
    },
    {
     "data": {
      "text/html": [
       "<div>\n",
       "<style scoped>\n",
       "    .dataframe tbody tr th:only-of-type {\n",
       "        vertical-align: middle;\n",
       "    }\n",
       "\n",
       "    .dataframe tbody tr th {\n",
       "        vertical-align: top;\n",
       "    }\n",
       "\n",
       "    .dataframe thead th {\n",
       "        text-align: right;\n",
       "    }\n",
       "</style>\n",
       "<table border=\"1\" class=\"dataframe\">\n",
       "  <thead>\n",
       "    <tr style=\"text-align: right;\">\n",
       "      <th></th>\n",
       "      <th>name</th>\n",
       "    </tr>\n",
       "  </thead>\n",
       "  <tbody>\n",
       "    <tr>\n",
       "      <th>0</th>\n",
       "      <td>loaded_data</td>\n",
       "    </tr>\n",
       "    <tr>\n",
       "      <th>1</th>\n",
       "      <td>city_tier_mapped</td>\n",
       "    </tr>\n",
       "    <tr>\n",
       "      <th>2</th>\n",
       "      <td>categorical_variables_mapped</td>\n",
       "    </tr>\n",
       "    <tr>\n",
       "      <th>3</th>\n",
       "      <td>interactions_mapped</td>\n",
       "    </tr>\n",
       "  </tbody>\n",
       "</table>\n",
       "</div>"
      ],
      "text/plain": [
       "                           name\n",
       "0                   loaded_data\n",
       "1              city_tier_mapped\n",
       "2  categorical_variables_mapped\n",
       "3           interactions_mapped"
      ]
     },
     "execution_count": 5,
     "metadata": {},
     "output_type": "execute_result"
    }
   ],
   "source": [
    "cnx = sqlite3.connect(DB_PATH + DB_FILE_NAME)\n",
    "df = pd.read_sql(f\"SELECT name FROM sqlite_master WHERE type='table'\", cnx)\n",
    "print(df.shape)\n",
    "df.head()"
   ]
  },
  {
   "cell_type": "code",
   "execution_count": 6,
   "id": "24563ab1-db0d-4e87-89d4-8925bda76337",
   "metadata": {},
   "outputs": [
    {
     "name": "stdout",
     "output_type": "stream",
     "text": [
      "(238139, 14)\n"
     ]
    },
    {
     "data": {
      "text/html": [
       "<div>\n",
       "<style scoped>\n",
       "    .dataframe tbody tr th:only-of-type {\n",
       "        vertical-align: middle;\n",
       "    }\n",
       "\n",
       "    .dataframe tbody tr th {\n",
       "        vertical-align: top;\n",
       "    }\n",
       "\n",
       "    .dataframe thead th {\n",
       "        text-align: right;\n",
       "    }\n",
       "</style>\n",
       "<table border=\"1\" class=\"dataframe\">\n",
       "  <thead>\n",
       "    <tr style=\"text-align: right;\">\n",
       "      <th></th>\n",
       "      <th>index</th>\n",
       "      <th>created_date</th>\n",
       "      <th>city_tier</th>\n",
       "      <th>first_platform_c</th>\n",
       "      <th>first_utm_medium_c</th>\n",
       "      <th>first_utm_source_c</th>\n",
       "      <th>total_leads_droppped</th>\n",
       "      <th>referred_lead</th>\n",
       "      <th>app_complete_flag</th>\n",
       "      <th>assistance_interaction</th>\n",
       "      <th>career_interaction</th>\n",
       "      <th>payment_interaction</th>\n",
       "      <th>social_interaction</th>\n",
       "      <th>syllabus_interaction</th>\n",
       "    </tr>\n",
       "  </thead>\n",
       "  <tbody>\n",
       "    <tr>\n",
       "      <th>0</th>\n",
       "      <td>0</td>\n",
       "      <td>2021-07-01 00:08:15</td>\n",
       "      <td>1.0</td>\n",
       "      <td>Level0</td>\n",
       "      <td>Level11</td>\n",
       "      <td>Level2</td>\n",
       "      <td>1.0</td>\n",
       "      <td>0.0</td>\n",
       "      <td>1</td>\n",
       "      <td>0.0</td>\n",
       "      <td>0.0</td>\n",
       "      <td>0.0</td>\n",
       "      <td>0.0</td>\n",
       "      <td>0.0</td>\n",
       "    </tr>\n",
       "    <tr>\n",
       "      <th>1</th>\n",
       "      <td>1</td>\n",
       "      <td>2021-07-01 00:16:43</td>\n",
       "      <td>2.0</td>\n",
       "      <td>Level3</td>\n",
       "      <td>Level0</td>\n",
       "      <td>others</td>\n",
       "      <td>1.0</td>\n",
       "      <td>0.0</td>\n",
       "      <td>1</td>\n",
       "      <td>0.0</td>\n",
       "      <td>0.0</td>\n",
       "      <td>0.0</td>\n",
       "      <td>0.0</td>\n",
       "      <td>0.0</td>\n",
       "    </tr>\n",
       "    <tr>\n",
       "      <th>2</th>\n",
       "      <td>2</td>\n",
       "      <td>2021-07-01 00:22:20</td>\n",
       "      <td>1.0</td>\n",
       "      <td>Level3</td>\n",
       "      <td>Level0</td>\n",
       "      <td>Level0</td>\n",
       "      <td>1.0</td>\n",
       "      <td>0.0</td>\n",
       "      <td>1</td>\n",
       "      <td>0.0</td>\n",
       "      <td>0.0</td>\n",
       "      <td>0.0</td>\n",
       "      <td>0.0</td>\n",
       "      <td>0.0</td>\n",
       "    </tr>\n",
       "    <tr>\n",
       "      <th>3</th>\n",
       "      <td>3</td>\n",
       "      <td>2021-07-01 00:23:13</td>\n",
       "      <td>1.0</td>\n",
       "      <td>Level1</td>\n",
       "      <td>Level3</td>\n",
       "      <td>others</td>\n",
       "      <td>2.0</td>\n",
       "      <td>0.0</td>\n",
       "      <td>0</td>\n",
       "      <td>0.0</td>\n",
       "      <td>0.0</td>\n",
       "      <td>0.0</td>\n",
       "      <td>0.0</td>\n",
       "      <td>0.0</td>\n",
       "    </tr>\n",
       "    <tr>\n",
       "      <th>4</th>\n",
       "      <td>4</td>\n",
       "      <td>2021-07-01 00:28:38</td>\n",
       "      <td>1.0</td>\n",
       "      <td>Level3</td>\n",
       "      <td>Level0</td>\n",
       "      <td>Level0</td>\n",
       "      <td>1.0</td>\n",
       "      <td>0.0</td>\n",
       "      <td>0</td>\n",
       "      <td>0.0</td>\n",
       "      <td>0.0</td>\n",
       "      <td>0.0</td>\n",
       "      <td>0.0</td>\n",
       "      <td>0.0</td>\n",
       "    </tr>\n",
       "  </tbody>\n",
       "</table>\n",
       "</div>"
      ],
      "text/plain": [
       "   index         created_date  city_tier first_platform_c first_utm_medium_c  \\\n",
       "0      0  2021-07-01 00:08:15        1.0           Level0            Level11   \n",
       "1      1  2021-07-01 00:16:43        2.0           Level3             Level0   \n",
       "2      2  2021-07-01 00:22:20        1.0           Level3             Level0   \n",
       "3      3  2021-07-01 00:23:13        1.0           Level1             Level3   \n",
       "4      4  2021-07-01 00:28:38        1.0           Level3             Level0   \n",
       "\n",
       "  first_utm_source_c  total_leads_droppped  referred_lead  app_complete_flag  \\\n",
       "0             Level2                   1.0            0.0                  1   \n",
       "1             others                   1.0            0.0                  1   \n",
       "2             Level0                   1.0            0.0                  1   \n",
       "3             others                   2.0            0.0                  0   \n",
       "4             Level0                   1.0            0.0                  0   \n",
       "\n",
       "   assistance_interaction  career_interaction  payment_interaction  \\\n",
       "0                     0.0                 0.0                  0.0   \n",
       "1                     0.0                 0.0                  0.0   \n",
       "2                     0.0                 0.0                  0.0   \n",
       "3                     0.0                 0.0                  0.0   \n",
       "4                     0.0                 0.0                  0.0   \n",
       "\n",
       "   social_interaction  syllabus_interaction  \n",
       "0                 0.0                   0.0  \n",
       "1                 0.0                   0.0  \n",
       "2                 0.0                   0.0  \n",
       "3                 0.0                   0.0  \n",
       "4                 0.0                   0.0  "
      ]
     },
     "execution_count": 6,
     "metadata": {},
     "output_type": "execute_result"
    }
   ],
   "source": [
    "df = pd.read_sql('select * from interactions_mapped', cnx)\n",
    "print(df.shape)\n",
    "df.head()"
   ]
  },
  {
   "cell_type": "code",
   "execution_count": 7,
   "id": "83ddd765-d695-4734-b9cb-2cdfc681378a",
   "metadata": {},
   "outputs": [
    {
     "data": {
      "text/html": [
       "<div>\n",
       "<style scoped>\n",
       "    .dataframe tbody tr th:only-of-type {\n",
       "        vertical-align: middle;\n",
       "    }\n",
       "\n",
       "    .dataframe tbody tr th {\n",
       "        vertical-align: top;\n",
       "    }\n",
       "\n",
       "    .dataframe thead th {\n",
       "        text-align: right;\n",
       "    }\n",
       "</style>\n",
       "<table border=\"1\" class=\"dataframe\">\n",
       "  <thead>\n",
       "    <tr style=\"text-align: right;\">\n",
       "      <th></th>\n",
       "      <th>first_platform_c</th>\n",
       "      <th>first_utm_medium_c</th>\n",
       "      <th>first_utm_source_c</th>\n",
       "    </tr>\n",
       "  </thead>\n",
       "  <tbody>\n",
       "    <tr>\n",
       "      <th>0</th>\n",
       "      <td>Level0</td>\n",
       "      <td>Level11</td>\n",
       "      <td>Level2</td>\n",
       "    </tr>\n",
       "    <tr>\n",
       "      <th>1</th>\n",
       "      <td>Level3</td>\n",
       "      <td>Level0</td>\n",
       "      <td>others</td>\n",
       "    </tr>\n",
       "    <tr>\n",
       "      <th>2</th>\n",
       "      <td>Level3</td>\n",
       "      <td>Level0</td>\n",
       "      <td>Level0</td>\n",
       "    </tr>\n",
       "    <tr>\n",
       "      <th>3</th>\n",
       "      <td>Level1</td>\n",
       "      <td>Level3</td>\n",
       "      <td>others</td>\n",
       "    </tr>\n",
       "    <tr>\n",
       "      <th>4</th>\n",
       "      <td>Level3</td>\n",
       "      <td>Level0</td>\n",
       "      <td>Level0</td>\n",
       "    </tr>\n",
       "  </tbody>\n",
       "</table>\n",
       "</div>"
      ],
      "text/plain": [
       "  first_platform_c first_utm_medium_c first_utm_source_c\n",
       "0           Level0            Level11             Level2\n",
       "1           Level3             Level0             others\n",
       "2           Level3             Level0             Level0\n",
       "3           Level1             Level3             others\n",
       "4           Level3             Level0             Level0"
      ]
     },
     "execution_count": 7,
     "metadata": {},
     "output_type": "execute_result"
    }
   ],
   "source": [
    "encoded_df = df[FEATURES_TO_ENCODE]\n",
    "encoded_df.head()"
   ]
  },
  {
   "cell_type": "code",
   "execution_count": 8,
   "id": "afae7c03-9c5b-4b4d-91f3-ee761f372bbb",
   "metadata": {},
   "outputs": [
    {
     "name": "stdout",
     "output_type": "stream",
     "text": [
      "['index', 'created_date', 'city_tier', 'first_platform_c', 'first_utm_medium_c', 'first_utm_source_c', 'total_leads_droppped', 'referred_lead', 'app_complete_flag', 'assistance_interaction', 'career_interaction', 'payment_interaction', 'social_interaction', 'syllabus_interaction']\n",
      "14\n"
     ]
    }
   ],
   "source": [
    "columns = df.columns.to_list()\n",
    "print(columns)\n",
    "print(len(columns))"
   ]
  },
  {
   "cell_type": "code",
   "execution_count": 9,
   "id": "6880f143-f9b5-4d06-b22e-99d651647241",
   "metadata": {},
   "outputs": [
    {
     "name": "stdout",
     "output_type": "stream",
     "text": [
      "CPU times: user 6 µs, sys: 1e+03 ns, total: 7 µs\n",
      "Wall time: 19.1 µs\n"
     ]
    }
   ],
   "source": [
    "%time\n",
    "df_new_encoded = pd.get_dummies(df, columns = FEATURES_TO_ENCODE,drop_first=True)"
   ]
  },
  {
   "cell_type": "code",
   "execution_count": 10,
   "id": "482297d5-0604-409e-8f33-d2bb1da8fea6",
   "metadata": {},
   "outputs": [
    {
     "name": "stdout",
     "output_type": "stream",
     "text": [
      "['index', 'created_date', 'city_tier', 'total_leads_droppped', 'referred_lead', 'app_complete_flag', 'assistance_interaction', 'career_interaction', 'payment_interaction', 'social_interaction', 'syllabus_interaction', 'first_platform_c_Level1', 'first_platform_c_Level2', 'first_platform_c_Level3', 'first_platform_c_Level7', 'first_platform_c_Level8', 'first_platform_c_others', 'first_utm_medium_c_Level10', 'first_utm_medium_c_Level11', 'first_utm_medium_c_Level13', 'first_utm_medium_c_Level15', 'first_utm_medium_c_Level16', 'first_utm_medium_c_Level2', 'first_utm_medium_c_Level20', 'first_utm_medium_c_Level26', 'first_utm_medium_c_Level3', 'first_utm_medium_c_Level30', 'first_utm_medium_c_Level33', 'first_utm_medium_c_Level4', 'first_utm_medium_c_Level43', 'first_utm_medium_c_Level5', 'first_utm_medium_c_Level6', 'first_utm_medium_c_Level8', 'first_utm_medium_c_Level9', 'first_utm_medium_c_others', 'first_utm_source_c_Level14', 'first_utm_source_c_Level16', 'first_utm_source_c_Level2', 'first_utm_source_c_Level4', 'first_utm_source_c_Level5', 'first_utm_source_c_Level6', 'first_utm_source_c_Level7', 'first_utm_source_c_others']\n",
      "43\n"
     ]
    }
   ],
   "source": [
    "columns = df_new_encoded.columns.to_list()\n",
    "print(columns)\n",
    "print(len(columns))"
   ]
  },
  {
   "cell_type": "code",
   "execution_count": 11,
   "id": "0ebcd133-94b4-4629-8ae2-a6f6d9a776a8",
   "metadata": {},
   "outputs": [],
   "source": [
    "db_path=DB_PATH\n",
    "db_file_name=DB_FILE_NAME\n",
    "one_hot_encoded_features=ONE_HOT_ENCODED_FEATURES\n",
    "features_to_encode=FEATURES_TO_ENCODE\n",
    "model_config=MODEL_CONFIG\n",
    "experiment=EXPERIMENT\n",
    "tracking_uri=TRACKING_URI"
   ]
  },
  {
   "cell_type": "code",
   "execution_count": 12,
   "id": "8203e577-a78d-4d97-a7e4-db60e0c1ca80",
   "metadata": {},
   "outputs": [
    {
     "data": {
      "text/plain": [
       "['first_platform_c', 'first_utm_medium_c', 'first_utm_source_c']"
      ]
     },
     "execution_count": 12,
     "metadata": {},
     "output_type": "execute_result"
    }
   ],
   "source": [
    "FEATURES_TO_ENCODE"
   ]
  },
  {
   "cell_type": "code",
   "execution_count": 13,
   "id": "9cfb2571-346e-4fb4-b222-e852676e4809",
   "metadata": {},
   "outputs": [
    {
     "name": "stdout",
     "output_type": "stream",
     "text": [
      "Data has been extracted successfully from lead_scoring_model_experimentation.\n",
      "input_data has been saved successfully to table features\n",
      "input_data has been saved successfully to table target\n",
      "input data has been written successfully to tables features & target\n"
     ]
    }
   ],
   "source": [
    "encode_features(db_path, db_file_name, one_hot_encoded_features, features_to_encode)"
   ]
  },
  {
   "cell_type": "code",
   "execution_count": 14,
   "id": "461fe9aa-64c4-4558-9fa7-6460c173d807",
   "metadata": {},
   "outputs": [
    {
     "name": "stdout",
     "output_type": "stream",
     "text": [
      "(6, 1)\n"
     ]
    },
    {
     "data": {
      "text/html": [
       "<div>\n",
       "<style scoped>\n",
       "    .dataframe tbody tr th:only-of-type {\n",
       "        vertical-align: middle;\n",
       "    }\n",
       "\n",
       "    .dataframe tbody tr th {\n",
       "        vertical-align: top;\n",
       "    }\n",
       "\n",
       "    .dataframe thead th {\n",
       "        text-align: right;\n",
       "    }\n",
       "</style>\n",
       "<table border=\"1\" class=\"dataframe\">\n",
       "  <thead>\n",
       "    <tr style=\"text-align: right;\">\n",
       "      <th></th>\n",
       "      <th>name</th>\n",
       "    </tr>\n",
       "  </thead>\n",
       "  <tbody>\n",
       "    <tr>\n",
       "      <th>0</th>\n",
       "      <td>loaded_data</td>\n",
       "    </tr>\n",
       "    <tr>\n",
       "      <th>1</th>\n",
       "      <td>city_tier_mapped</td>\n",
       "    </tr>\n",
       "    <tr>\n",
       "      <th>2</th>\n",
       "      <td>categorical_variables_mapped</td>\n",
       "    </tr>\n",
       "    <tr>\n",
       "      <th>3</th>\n",
       "      <td>interactions_mapped</td>\n",
       "    </tr>\n",
       "    <tr>\n",
       "      <th>4</th>\n",
       "      <td>features</td>\n",
       "    </tr>\n",
       "  </tbody>\n",
       "</table>\n",
       "</div>"
      ],
      "text/plain": [
       "                           name\n",
       "0                   loaded_data\n",
       "1              city_tier_mapped\n",
       "2  categorical_variables_mapped\n",
       "3           interactions_mapped\n",
       "4                      features"
      ]
     },
     "execution_count": 14,
     "metadata": {},
     "output_type": "execute_result"
    }
   ],
   "source": [
    "df = pd.read_sql(f\"SELECT name FROM sqlite_master WHERE type='table'\", cnx)\n",
    "print(df.shape)\n",
    "df.head()"
   ]
  },
  {
   "cell_type": "code",
   "execution_count": 15,
   "id": "b1a64ba5-a4c8-4509-ba04-23d5e886d94b",
   "metadata": {},
   "outputs": [
    {
     "data": {
      "text/html": [
       "<div>\n",
       "<style scoped>\n",
       "    .dataframe tbody tr th:only-of-type {\n",
       "        vertical-align: middle;\n",
       "    }\n",
       "\n",
       "    .dataframe tbody tr th {\n",
       "        vertical-align: top;\n",
       "    }\n",
       "\n",
       "    .dataframe thead th {\n",
       "        text-align: right;\n",
       "    }\n",
       "</style>\n",
       "<table border=\"1\" class=\"dataframe\">\n",
       "  <thead>\n",
       "    <tr style=\"text-align: right;\">\n",
       "      <th></th>\n",
       "      <th>index</th>\n",
       "      <th>first_platform_c</th>\n",
       "      <th>first_utm_medium_c</th>\n",
       "      <th>first_utm_source_c</th>\n",
       "      <th>total_leads_droppped</th>\n",
       "      <th>city_tier</th>\n",
       "      <th>first_platform_c_Level8</th>\n",
       "      <th>first_platform_c_others</th>\n",
       "      <th>first_platform_c_Level2</th>\n",
       "      <th>first_utm_medium_c_others</th>\n",
       "      <th>first_utm_medium_c_Level13</th>\n",
       "      <th>first_utm_medium_c_Level0</th>\n",
       "      <th>first_platform_c_Level7</th>\n",
       "      <th>first_platform_c_Level0</th>\n",
       "    </tr>\n",
       "  </thead>\n",
       "  <tbody>\n",
       "    <tr>\n",
       "      <th>0</th>\n",
       "      <td>0</td>\n",
       "      <td>0</td>\n",
       "      <td>0</td>\n",
       "      <td>0</td>\n",
       "      <td>1.0</td>\n",
       "      <td>1.0</td>\n",
       "      <td>0</td>\n",
       "      <td>0</td>\n",
       "      <td>0</td>\n",
       "      <td>0</td>\n",
       "      <td>0</td>\n",
       "      <td>0</td>\n",
       "      <td>0</td>\n",
       "      <td>1</td>\n",
       "    </tr>\n",
       "    <tr>\n",
       "      <th>1</th>\n",
       "      <td>1</td>\n",
       "      <td>0</td>\n",
       "      <td>0</td>\n",
       "      <td>0</td>\n",
       "      <td>1.0</td>\n",
       "      <td>2.0</td>\n",
       "      <td>0</td>\n",
       "      <td>0</td>\n",
       "      <td>0</td>\n",
       "      <td>0</td>\n",
       "      <td>0</td>\n",
       "      <td>1</td>\n",
       "      <td>0</td>\n",
       "      <td>0</td>\n",
       "    </tr>\n",
       "    <tr>\n",
       "      <th>2</th>\n",
       "      <td>2</td>\n",
       "      <td>0</td>\n",
       "      <td>0</td>\n",
       "      <td>0</td>\n",
       "      <td>1.0</td>\n",
       "      <td>1.0</td>\n",
       "      <td>0</td>\n",
       "      <td>0</td>\n",
       "      <td>0</td>\n",
       "      <td>0</td>\n",
       "      <td>0</td>\n",
       "      <td>1</td>\n",
       "      <td>0</td>\n",
       "      <td>0</td>\n",
       "    </tr>\n",
       "    <tr>\n",
       "      <th>3</th>\n",
       "      <td>3</td>\n",
       "      <td>0</td>\n",
       "      <td>0</td>\n",
       "      <td>0</td>\n",
       "      <td>2.0</td>\n",
       "      <td>1.0</td>\n",
       "      <td>0</td>\n",
       "      <td>0</td>\n",
       "      <td>0</td>\n",
       "      <td>0</td>\n",
       "      <td>0</td>\n",
       "      <td>0</td>\n",
       "      <td>0</td>\n",
       "      <td>0</td>\n",
       "    </tr>\n",
       "    <tr>\n",
       "      <th>4</th>\n",
       "      <td>4</td>\n",
       "      <td>0</td>\n",
       "      <td>0</td>\n",
       "      <td>0</td>\n",
       "      <td>1.0</td>\n",
       "      <td>1.0</td>\n",
       "      <td>0</td>\n",
       "      <td>0</td>\n",
       "      <td>0</td>\n",
       "      <td>0</td>\n",
       "      <td>0</td>\n",
       "      <td>1</td>\n",
       "      <td>0</td>\n",
       "      <td>0</td>\n",
       "    </tr>\n",
       "  </tbody>\n",
       "</table>\n",
       "</div>"
      ],
      "text/plain": [
       "   index  first_platform_c  first_utm_medium_c  first_utm_source_c  \\\n",
       "0      0                 0                   0                   0   \n",
       "1      1                 0                   0                   0   \n",
       "2      2                 0                   0                   0   \n",
       "3      3                 0                   0                   0   \n",
       "4      4                 0                   0                   0   \n",
       "\n",
       "   total_leads_droppped  city_tier  first_platform_c_Level8  \\\n",
       "0                   1.0        1.0                        0   \n",
       "1                   1.0        2.0                        0   \n",
       "2                   1.0        1.0                        0   \n",
       "3                   2.0        1.0                        0   \n",
       "4                   1.0        1.0                        0   \n",
       "\n",
       "   first_platform_c_others  first_platform_c_Level2  \\\n",
       "0                        0                        0   \n",
       "1                        0                        0   \n",
       "2                        0                        0   \n",
       "3                        0                        0   \n",
       "4                        0                        0   \n",
       "\n",
       "   first_utm_medium_c_others  first_utm_medium_c_Level13  \\\n",
       "0                          0                           0   \n",
       "1                          0                           0   \n",
       "2                          0                           0   \n",
       "3                          0                           0   \n",
       "4                          0                           0   \n",
       "\n",
       "   first_utm_medium_c_Level0  first_platform_c_Level7  first_platform_c_Level0  \n",
       "0                          0                        0                        1  \n",
       "1                          1                        0                        0  \n",
       "2                          1                        0                        0  \n",
       "3                          0                        0                        0  \n",
       "4                          1                        0                        0  "
      ]
     },
     "execution_count": 15,
     "metadata": {},
     "output_type": "execute_result"
    }
   ],
   "source": [
    "cnx = sqlite3.connect(db_path + db_file_name)\n",
    "X = pd.read_sql('select * from features', cnx)\n",
    "X.head()"
   ]
  },
  {
   "cell_type": "code",
   "execution_count": 16,
   "id": "80802959-30ff-41de-bc82-e38f7adc1740",
   "metadata": {},
   "outputs": [
    {
     "data": {
      "text/html": [
       "<div>\n",
       "<style scoped>\n",
       "    .dataframe tbody tr th:only-of-type {\n",
       "        vertical-align: middle;\n",
       "    }\n",
       "\n",
       "    .dataframe tbody tr th {\n",
       "        vertical-align: top;\n",
       "    }\n",
       "\n",
       "    .dataframe thead th {\n",
       "        text-align: right;\n",
       "    }\n",
       "</style>\n",
       "<table border=\"1\" class=\"dataframe\">\n",
       "  <thead>\n",
       "    <tr style=\"text-align: right;\">\n",
       "      <th></th>\n",
       "      <th>index</th>\n",
       "      <th>app_complete_flag</th>\n",
       "    </tr>\n",
       "  </thead>\n",
       "  <tbody>\n",
       "    <tr>\n",
       "      <th>0</th>\n",
       "      <td>0</td>\n",
       "      <td>1</td>\n",
       "    </tr>\n",
       "    <tr>\n",
       "      <th>1</th>\n",
       "      <td>1</td>\n",
       "      <td>1</td>\n",
       "    </tr>\n",
       "    <tr>\n",
       "      <th>2</th>\n",
       "      <td>2</td>\n",
       "      <td>1</td>\n",
       "    </tr>\n",
       "    <tr>\n",
       "      <th>3</th>\n",
       "      <td>3</td>\n",
       "      <td>0</td>\n",
       "    </tr>\n",
       "    <tr>\n",
       "      <th>4</th>\n",
       "      <td>4</td>\n",
       "      <td>0</td>\n",
       "    </tr>\n",
       "  </tbody>\n",
       "</table>\n",
       "</div>"
      ],
      "text/plain": [
       "   index  app_complete_flag\n",
       "0      0                  1\n",
       "1      1                  1\n",
       "2      2                  1\n",
       "3      3                  0\n",
       "4      4                  0"
      ]
     },
     "execution_count": 16,
     "metadata": {},
     "output_type": "execute_result"
    }
   ],
   "source": [
    "y = pd.read_sql('select * from target', cnx)\n",
    "y.head()"
   ]
  },
  {
   "cell_type": "code",
   "execution_count": 27,
   "id": "c2412f70-f584-4df5-b6dd-7bb9186f7453",
   "metadata": {},
   "outputs": [],
   "source": [
    "def create_sqlit_connection(db_path, db_file):\n",
    "    \"\"\" create a database connection to a SQLite database \"\"\"\n",
    "    conn = None\n",
    "    # opening the conncetion for creating the sqlite db\n",
    "    try:\n",
    "        conn = sqlite3.connect(db_path + db_file)\n",
    "        print(sqlite3.version)\n",
    "    # return an error if connection not established\n",
    "    except Error as e:\n",
    "        print(e)\n",
    "    # closing the connection once the database is created\n",
    "    finally:\n",
    "        if conn:\n",
    "            conn.close()"
   ]
  },
  {
   "cell_type": "code",
   "execution_count": 32,
   "id": "fef77a01-b69f-4d50-b7e1-fc824097a4e1",
   "metadata": {},
   "outputs": [
    {
     "name": "stdout",
     "output_type": "stream",
     "text": [
      "2.6.0\n"
     ]
    }
   ],
   "source": [
    "create_sqlit_connection(db_path,r\"Lead_scoring_mlflow_production.db\")"
   ]
  },
  {
   "cell_type": "code",
   "execution_count": 33,
   "id": "64c6c02d-2cab-42f7-83ae-19debcdd9538",
   "metadata": {},
   "outputs": [],
   "source": [
    "mlflow.set_tracking_uri(\"http://0.0.0.0:6006\")"
   ]
  },
  {
   "cell_type": "code",
   "execution_count": 34,
   "id": "2ca837b2-53df-4508-b82a-5335ea2ad7ad",
   "metadata": {},
   "outputs": [
    {
     "name": "stderr",
     "output_type": "stream",
     "text": [
      "/opt/conda/lib/python3.8/site-packages/sklearn/utils/validation.py:72: DataConversionWarning: A column-vector y was passed when a 1d array was expected. Please change the shape of y to (n_samples, ), for example using ravel().\n",
      "  return f(**kwargs)\n",
      "Successfully registered model 'LightGBM'.\n",
      "2024/11/06 06:29:13 INFO mlflow.tracking._model_registry.client: Waiting up to 300 seconds for model version to finish creation.                     Model name: LightGBM, version 1\n",
      "Created version '1' of model 'LightGBM'.\n"
     ]
    },
    {
     "name": "stdout",
     "output_type": "stream",
     "text": [
      "get_trained_model has been executed successfully.\n"
     ]
    }
   ],
   "source": [
    "get_trained_model(db_path, db_file_name, model_config, experiment,tracking_uri)"
   ]
  },
  {
   "cell_type": "code",
   "execution_count": null,
   "id": "e3054f4e-ef14-4a2a-8d40-62c4e9719466",
   "metadata": {},
   "outputs": [],
   "source": []
  }
 ],
 "metadata": {
  "kernelspec": {
   "display_name": "Python 3 (ipykernel)",
   "language": "python",
   "name": "python3"
  },
  "language_info": {
   "codemirror_mode": {
    "name": "ipython",
    "version": 3
   },
   "file_extension": ".py",
   "mimetype": "text/x-python",
   "name": "python",
   "nbconvert_exporter": "python",
   "pygments_lexer": "ipython3",
   "version": "3.8.12"
  }
 },
 "nbformat": 4,
 "nbformat_minor": 5
}
