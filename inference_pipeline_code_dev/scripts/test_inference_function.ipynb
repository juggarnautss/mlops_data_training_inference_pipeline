{
 "cells": [
  {
   "cell_type": "code",
   "execution_count": 69,
   "id": "762f2520-61d0-4418-86b0-283da5bbcca5",
   "metadata": {},
   "outputs": [],
   "source": [
    "from airflow import DAG\n",
    "from airflow.operators.python import PythonOperator\n",
    "from airflow.operators.bash import BashOperator\n",
    "\n",
    "from datetime import datetime, timedelta\n",
    "import sys\n",
    "import importlib.util\n",
    "from utils import *\n",
    "from constants import *"
   ]
  },
  {
   "cell_type": "code",
   "execution_count": 70,
   "id": "8991cc87-3c30-45f1-89ac-760def8afbe5",
   "metadata": {},
   "outputs": [],
   "source": [
    "def module_from_file(module_name, file_path):\n",
    "    spec = importlib.util.spec_from_file_location(module_name, file_path)\n",
    "    module = importlib.util.module_from_spec(spec)\n",
    "    spec.loader.exec_module(module)\n",
    "    return module"
   ]
  },
  {
   "cell_type": "code",
   "execution_count": 71,
   "id": "5ca6b33e-b4ce-4dad-8d63-370c68a89928",
   "metadata": {},
   "outputs": [],
   "source": [
    "utils = module_from_file(\"utils\", \"/home/Assignment/03_inference_pipeline/scripts/utils.py\")\n",
    "constants = module_from_file(\"utils\", \"/home/Assignment/03_inference_pipeline/scripts/constants.py\") "
   ]
  },
  {
   "cell_type": "code",
   "execution_count": 72,
   "id": "a0d1a7e1-8337-41bd-b316-7ead7a78933a",
   "metadata": {},
   "outputs": [],
   "source": [
    "db_path=constants.DB_PATH\n",
    "db_file_name=constants.DB_FILE_NAME\n",
    "\n",
    "db_file_mlflow=constants.DB_FILE_MLFLOW\n",
    "tracking_uri=constants.TRACKING_URI\n",
    "\n",
    "scripts_output= constants.SCRIPTS_OUTPUT\n",
    "\n",
    "\n",
    "model_name=constants.MODEL_NAME\n",
    "model_stage=constants.STAGE\n",
    "\n",
    "one_hot_encoded_features=constants.ONE_HOT_ENCODED_FEATURES\n",
    "features_to_encode=constants.FEATURES_TO_ENCODE"
   ]
  },
  {
   "cell_type": "code",
   "execution_count": 54,
   "id": "deaff4b9-c1df-4acc-bdda-1b20da22c36e",
   "metadata": {},
   "outputs": [
    {
     "data": {
      "text/plain": [
       "'/home/airflow/dags/Lead_scoring_data_pipeline/'"
      ]
     },
     "execution_count": 54,
     "metadata": {},
     "output_type": "execute_result"
    }
   ],
   "source": [
    "db_path\n"
   ]
  },
  {
   "cell_type": "code",
   "execution_count": 55,
   "id": "62c038fa-5525-4a63-afb6-6ed1338d5d7a",
   "metadata": {},
   "outputs": [
    {
     "data": {
      "text/plain": [
       "'lead_scoring_data_cleaning.db'"
      ]
     },
     "execution_count": 55,
     "metadata": {},
     "output_type": "execute_result"
    }
   ],
   "source": [
    "db_file_name\n"
   ]
  },
  {
   "cell_type": "code",
   "execution_count": 56,
   "id": "f7a16757-43b9-481e-b08f-1e126a9e3872",
   "metadata": {},
   "outputs": [
    {
     "data": {
      "text/plain": [
       "'/home/Assignment/02_training_pipeline/scripts/Lead_scoring_mlflow_production.db'"
      ]
     },
     "execution_count": 56,
     "metadata": {},
     "output_type": "execute_result"
    }
   ],
   "source": [
    "db_file_mlflow\n"
   ]
  },
  {
   "cell_type": "code",
   "execution_count": 57,
   "id": "83e28eab-7fb2-432b-9950-34d3299765cf",
   "metadata": {},
   "outputs": [
    {
     "data": {
      "text/plain": [
       "('LightGBM', 'production', 'http://0.0.0.0:6006')"
      ]
     },
     "execution_count": 57,
     "metadata": {},
     "output_type": "execute_result"
    }
   ],
   "source": [
    "model_name,model_stage,tracking_uri"
   ]
  },
  {
   "cell_type": "code",
   "execution_count": 58,
   "id": "2353412c-015e-4759-98b5-fac15bbbb9b6",
   "metadata": {},
   "outputs": [
    {
     "data": {
      "text/plain": [
       "['total_leads_droppped',\n",
       " 'city_tier',\n",
       " 'first_platform_c_Level8',\n",
       " 'first_platform_c_others',\n",
       " 'first_platform_c_Level2',\n",
       " 'first_utm_medium_c_others',\n",
       " 'first_utm_medium_c_Level13',\n",
       " 'first_utm_medium_c_Level0',\n",
       " 'first_platform_c_Level7',\n",
       " 'first_platform_c_Level0']"
      ]
     },
     "execution_count": 58,
     "metadata": {},
     "output_type": "execute_result"
    }
   ],
   "source": [
    "one_hot_encoded_features"
   ]
  },
  {
   "cell_type": "code",
   "execution_count": 59,
   "id": "8cee0ee5-b534-4c4f-8bbb-d62f0ef4547d",
   "metadata": {},
   "outputs": [
    {
     "data": {
      "text/plain": [
       "['first_platform_c', 'first_utm_medium_c', 'first_utm_source_c']"
      ]
     },
     "execution_count": 59,
     "metadata": {},
     "output_type": "execute_result"
    }
   ],
   "source": [
    "features_to_encode"
   ]
  },
  {
   "cell_type": "code",
   "execution_count": 60,
   "id": "6941444f-8dd1-4521-b4d7-7ef86e48fe6c",
   "metadata": {},
   "outputs": [],
   "source": [
    "def load_data(file_path_list):\n",
    "    data = []\n",
    "    for eachfile in file_path_list:\n",
    "        data.append(pd.read_csv(eachfile, index_col=0))\n",
    "    return data\n",
    "\n",
    "def __read_input_data(db_path, db_file_name, table_name):\n",
    "    cnx = sqlite3.connect(db_path + db_file_name)\n",
    "    df = pd.read_sql('select * from '+ table_name, cnx)\n",
    "    df.drop(columns=['level_0', 'index'], axis = 1, inplace=True, errors='ignore')\n",
    "    cnx.close()\n",
    "    print(\"Data has been extracted successfully from lead_scoring_model_experimentation.\")\n",
    "    return df\n",
    "\n",
    "def __save_data_to_db(db_path, db_file_name, input_data, table):\n",
    "    cnx = sqlite3.connect(db_path + db_file_name)\n",
    "    input_data.to_sql(name=table, con=cnx, if_exists='replace')\n",
    "    print('input_data has been saved successfully to table ' + table);\n",
    "    cnx.close()"
   ]
  },
  {
   "cell_type": "code",
   "execution_count": 61,
   "id": "3b0d30fe-5226-4a7c-9734-a3c5c8c1d765",
   "metadata": {},
   "outputs": [
    {
     "name": "stdout",
     "output_type": "stream",
     "text": [
      "Data has been extracted successfully from lead_scoring_model_experimentation.\n",
      "input_data has been saved successfully to table features\n"
     ]
    }
   ],
   "source": [
    "encode_features(db_path, db_file_name, one_hot_encoded_features, features_to_encode)"
   ]
  },
  {
   "cell_type": "code",
   "execution_count": 62,
   "id": "3ad86c96-f6e3-4606-9b9e-6bccc91bf5d9",
   "metadata": {},
   "outputs": [
    {
     "name": "stdout",
     "output_type": "stream",
     "text": [
      "Data has been extracted successfully from lead_scoring_model_experimentation.\n"
     ]
    }
   ],
   "source": [
    "input_data = __read_input_data(db_path, db_file_name, 'features')\n",
    "source_cols = input_data.columns.to_list()"
   ]
  },
  {
   "cell_type": "code",
   "execution_count": 63,
   "id": "eccca5e0-e2d4-40c4-816e-64dbd86af546",
   "metadata": {},
   "outputs": [
    {
     "data": {
      "text/plain": [
       "['first_platform_c',\n",
       " 'first_utm_medium_c',\n",
       " 'first_utm_source_c',\n",
       " 'total_leads_droppped',\n",
       " 'city_tier',\n",
       " 'first_platform_c_Level8',\n",
       " 'first_platform_c_others',\n",
       " 'first_platform_c_Level2',\n",
       " 'first_utm_medium_c_others',\n",
       " 'first_utm_medium_c_Level13',\n",
       " 'first_utm_medium_c_Level0',\n",
       " 'first_platform_c_Level7',\n",
       " 'first_platform_c_Level0']"
      ]
     },
     "execution_count": 63,
     "metadata": {},
     "output_type": "execute_result"
    }
   ],
   "source": [
    "source_cols"
   ]
  },
  {
   "cell_type": "code",
   "execution_count": 65,
   "id": "c56ead22-2285-4a88-9a28-c2bced87393a",
   "metadata": {},
   "outputs": [
    {
     "name": "stdout",
     "output_type": "stream",
     "text": [
      "Data has been extracted successfully from lead_scoring_model_experimentation.\n",
      "[1 0 0 ... 1 1 1]\n",
      "input_data has been saved successfully to table predicted_output\n"
     ]
    },
    {
     "data": {
      "text/plain": [
       "'Predictions are done and save in Final_Predictions Table'"
      ]
     },
     "execution_count": 65,
     "metadata": {},
     "output_type": "execute_result"
    }
   ],
   "source": [
    "get_models_prediction(db_path, db_file_name, model_name, model_stage, tracking_uri)"
   ]
  },
  {
   "cell_type": "code",
   "execution_count": 66,
   "id": "2b9f47af-e874-421b-820e-9477c6c2a8bd",
   "metadata": {},
   "outputs": [
    {
     "name": "stdout",
     "output_type": "stream",
     "text": [
      "models:/LightGBM/production\n"
     ]
    }
   ],
   "source": [
    "model_name='LightGBM'\n",
    "model_stage='production'\n",
    "model_uri = \"models:/{model_name}/{model_stage}\".format(model_name=model_name, model_stage=model_stage)\n",
    "print(model_uri)"
   ]
  },
  {
   "cell_type": "code",
   "execution_count": 73,
   "id": "f6c6f813-c7e5-4ff3-8284-81139aa61471",
   "metadata": {},
   "outputs": [
    {
     "name": "stdout",
     "output_type": "stream",
     "text": [
      "Data has been extracted successfully from lead_scoring_model_experimentation.\n",
      "Output file has been generated successfully /home/Assignment/03_inference_pipeline/scripts/prediction_distribution_20241106115025.txt\n"
     ]
    }
   ],
   "source": [
    "prediction_ratio_check(db_path, db_file_name, scripts_output)"
   ]
  },
  {
   "cell_type": "code",
   "execution_count": 74,
   "id": "c529959a-796c-4f0d-a427-2917acd01419",
   "metadata": {},
   "outputs": [
    {
     "name": "stdout",
     "output_type": "stream",
     "text": [
      "Data has been extracted successfully from lead_scoring_model_experimentation.\n",
      "Some of the models inputs are missing\n"
     ]
    }
   ],
   "source": [
    "input_features_check(db_path, db_file_name, one_hot_encoded_features)"
   ]
  },
  {
   "cell_type": "code",
   "execution_count": 75,
   "id": "9e30ab65-213d-42c2-b8b0-2fa5f97db9dd",
   "metadata": {},
   "outputs": [
    {
     "name": "stdout",
     "output_type": "stream",
     "text": [
      "(238139, 14)\n"
     ]
    },
    {
     "data": {
      "text/html": [
       "<div>\n",
       "<style scoped>\n",
       "    .dataframe tbody tr th:only-of-type {\n",
       "        vertical-align: middle;\n",
       "    }\n",
       "\n",
       "    .dataframe tbody tr th {\n",
       "        vertical-align: top;\n",
       "    }\n",
       "\n",
       "    .dataframe thead th {\n",
       "        text-align: right;\n",
       "    }\n",
       "</style>\n",
       "<table border=\"1\" class=\"dataframe\">\n",
       "  <thead>\n",
       "    <tr style=\"text-align: right;\">\n",
       "      <th></th>\n",
       "      <th>index</th>\n",
       "      <th>first_platform_c</th>\n",
       "      <th>first_utm_medium_c</th>\n",
       "      <th>first_utm_source_c</th>\n",
       "      <th>total_leads_droppped</th>\n",
       "      <th>city_tier</th>\n",
       "      <th>first_platform_c_Level8</th>\n",
       "      <th>first_platform_c_others</th>\n",
       "      <th>first_platform_c_Level2</th>\n",
       "      <th>first_utm_medium_c_others</th>\n",
       "      <th>first_utm_medium_c_Level13</th>\n",
       "      <th>first_utm_medium_c_Level0</th>\n",
       "      <th>first_platform_c_Level7</th>\n",
       "      <th>first_platform_c_Level0</th>\n",
       "    </tr>\n",
       "  </thead>\n",
       "  <tbody>\n",
       "    <tr>\n",
       "      <th>0</th>\n",
       "      <td>0</td>\n",
       "      <td>0</td>\n",
       "      <td>0</td>\n",
       "      <td>0</td>\n",
       "      <td>1.0</td>\n",
       "      <td>1.0</td>\n",
       "      <td>0</td>\n",
       "      <td>0</td>\n",
       "      <td>0</td>\n",
       "      <td>0</td>\n",
       "      <td>0</td>\n",
       "      <td>0</td>\n",
       "      <td>0</td>\n",
       "      <td>1</td>\n",
       "    </tr>\n",
       "    <tr>\n",
       "      <th>1</th>\n",
       "      <td>1</td>\n",
       "      <td>0</td>\n",
       "      <td>0</td>\n",
       "      <td>0</td>\n",
       "      <td>1.0</td>\n",
       "      <td>2.0</td>\n",
       "      <td>0</td>\n",
       "      <td>0</td>\n",
       "      <td>0</td>\n",
       "      <td>0</td>\n",
       "      <td>0</td>\n",
       "      <td>1</td>\n",
       "      <td>0</td>\n",
       "      <td>0</td>\n",
       "    </tr>\n",
       "    <tr>\n",
       "      <th>2</th>\n",
       "      <td>2</td>\n",
       "      <td>0</td>\n",
       "      <td>0</td>\n",
       "      <td>0</td>\n",
       "      <td>1.0</td>\n",
       "      <td>1.0</td>\n",
       "      <td>0</td>\n",
       "      <td>0</td>\n",
       "      <td>0</td>\n",
       "      <td>0</td>\n",
       "      <td>0</td>\n",
       "      <td>1</td>\n",
       "      <td>0</td>\n",
       "      <td>0</td>\n",
       "    </tr>\n",
       "    <tr>\n",
       "      <th>3</th>\n",
       "      <td>3</td>\n",
       "      <td>0</td>\n",
       "      <td>0</td>\n",
       "      <td>0</td>\n",
       "      <td>2.0</td>\n",
       "      <td>1.0</td>\n",
       "      <td>0</td>\n",
       "      <td>0</td>\n",
       "      <td>0</td>\n",
       "      <td>0</td>\n",
       "      <td>0</td>\n",
       "      <td>0</td>\n",
       "      <td>0</td>\n",
       "      <td>0</td>\n",
       "    </tr>\n",
       "    <tr>\n",
       "      <th>4</th>\n",
       "      <td>4</td>\n",
       "      <td>0</td>\n",
       "      <td>0</td>\n",
       "      <td>0</td>\n",
       "      <td>1.0</td>\n",
       "      <td>1.0</td>\n",
       "      <td>0</td>\n",
       "      <td>0</td>\n",
       "      <td>0</td>\n",
       "      <td>0</td>\n",
       "      <td>0</td>\n",
       "      <td>1</td>\n",
       "      <td>0</td>\n",
       "      <td>0</td>\n",
       "    </tr>\n",
       "    <tr>\n",
       "      <th>5</th>\n",
       "      <td>5</td>\n",
       "      <td>0</td>\n",
       "      <td>0</td>\n",
       "      <td>0</td>\n",
       "      <td>2.0</td>\n",
       "      <td>1.0</td>\n",
       "      <td>0</td>\n",
       "      <td>0</td>\n",
       "      <td>0</td>\n",
       "      <td>0</td>\n",
       "      <td>0</td>\n",
       "      <td>0</td>\n",
       "      <td>0</td>\n",
       "      <td>1</td>\n",
       "    </tr>\n",
       "    <tr>\n",
       "      <th>6</th>\n",
       "      <td>6</td>\n",
       "      <td>0</td>\n",
       "      <td>0</td>\n",
       "      <td>0</td>\n",
       "      <td>3.0</td>\n",
       "      <td>1.0</td>\n",
       "      <td>0</td>\n",
       "      <td>0</td>\n",
       "      <td>0</td>\n",
       "      <td>0</td>\n",
       "      <td>0</td>\n",
       "      <td>1</td>\n",
       "      <td>0</td>\n",
       "      <td>0</td>\n",
       "    </tr>\n",
       "    <tr>\n",
       "      <th>7</th>\n",
       "      <td>7</td>\n",
       "      <td>0</td>\n",
       "      <td>0</td>\n",
       "      <td>0</td>\n",
       "      <td>2.0</td>\n",
       "      <td>1.0</td>\n",
       "      <td>0</td>\n",
       "      <td>0</td>\n",
       "      <td>0</td>\n",
       "      <td>0</td>\n",
       "      <td>0</td>\n",
       "      <td>1</td>\n",
       "      <td>0</td>\n",
       "      <td>0</td>\n",
       "    </tr>\n",
       "    <tr>\n",
       "      <th>8</th>\n",
       "      <td>8</td>\n",
       "      <td>0</td>\n",
       "      <td>0</td>\n",
       "      <td>0</td>\n",
       "      <td>1.0</td>\n",
       "      <td>1.0</td>\n",
       "      <td>0</td>\n",
       "      <td>0</td>\n",
       "      <td>0</td>\n",
       "      <td>0</td>\n",
       "      <td>0</td>\n",
       "      <td>0</td>\n",
       "      <td>0</td>\n",
       "      <td>1</td>\n",
       "    </tr>\n",
       "    <tr>\n",
       "      <th>9</th>\n",
       "      <td>9</td>\n",
       "      <td>0</td>\n",
       "      <td>0</td>\n",
       "      <td>0</td>\n",
       "      <td>1.0</td>\n",
       "      <td>2.0</td>\n",
       "      <td>0</td>\n",
       "      <td>0</td>\n",
       "      <td>0</td>\n",
       "      <td>1</td>\n",
       "      <td>0</td>\n",
       "      <td>0</td>\n",
       "      <td>0</td>\n",
       "      <td>0</td>\n",
       "    </tr>\n",
       "  </tbody>\n",
       "</table>\n",
       "</div>"
      ],
      "text/plain": [
       "   index  first_platform_c  first_utm_medium_c  first_utm_source_c  \\\n",
       "0      0                 0                   0                   0   \n",
       "1      1                 0                   0                   0   \n",
       "2      2                 0                   0                   0   \n",
       "3      3                 0                   0                   0   \n",
       "4      4                 0                   0                   0   \n",
       "5      5                 0                   0                   0   \n",
       "6      6                 0                   0                   0   \n",
       "7      7                 0                   0                   0   \n",
       "8      8                 0                   0                   0   \n",
       "9      9                 0                   0                   0   \n",
       "\n",
       "   total_leads_droppped  city_tier  first_platform_c_Level8  \\\n",
       "0                   1.0        1.0                        0   \n",
       "1                   1.0        2.0                        0   \n",
       "2                   1.0        1.0                        0   \n",
       "3                   2.0        1.0                        0   \n",
       "4                   1.0        1.0                        0   \n",
       "5                   2.0        1.0                        0   \n",
       "6                   3.0        1.0                        0   \n",
       "7                   2.0        1.0                        0   \n",
       "8                   1.0        1.0                        0   \n",
       "9                   1.0        2.0                        0   \n",
       "\n",
       "   first_platform_c_others  first_platform_c_Level2  \\\n",
       "0                        0                        0   \n",
       "1                        0                        0   \n",
       "2                        0                        0   \n",
       "3                        0                        0   \n",
       "4                        0                        0   \n",
       "5                        0                        0   \n",
       "6                        0                        0   \n",
       "7                        0                        0   \n",
       "8                        0                        0   \n",
       "9                        0                        0   \n",
       "\n",
       "   first_utm_medium_c_others  first_utm_medium_c_Level13  \\\n",
       "0                          0                           0   \n",
       "1                          0                           0   \n",
       "2                          0                           0   \n",
       "3                          0                           0   \n",
       "4                          0                           0   \n",
       "5                          0                           0   \n",
       "6                          0                           0   \n",
       "7                          0                           0   \n",
       "8                          0                           0   \n",
       "9                          1                           0   \n",
       "\n",
       "   first_utm_medium_c_Level0  first_platform_c_Level7  first_platform_c_Level0  \n",
       "0                          0                        0                        1  \n",
       "1                          1                        0                        0  \n",
       "2                          1                        0                        0  \n",
       "3                          0                        0                        0  \n",
       "4                          1                        0                        0  \n",
       "5                          0                        0                        1  \n",
       "6                          1                        0                        0  \n",
       "7                          1                        0                        0  \n",
       "8                          0                        0                        1  \n",
       "9                          0                        0                        0  "
      ]
     },
     "execution_count": 75,
     "metadata": {},
     "output_type": "execute_result"
    }
   ],
   "source": [
    "cnx = sqlite3.connect(DB_PATH + DB_FILE_NAME)\n",
    "df = pd.read_sql(f\"SELECT * FROM features\", cnx)\n",
    "print(df.shape)\n",
    "df.head(10)"
   ]
  },
  {
   "cell_type": "code",
   "execution_count": null,
   "id": "bfb15cdd-252e-4815-8b74-ace5e8e861cf",
   "metadata": {},
   "outputs": [],
   "source": []
  }
 ],
 "metadata": {
  "kernelspec": {
   "display_name": "Python 3 (ipykernel)",
   "language": "python",
   "name": "python3"
  },
  "language_info": {
   "codemirror_mode": {
    "name": "ipython",
    "version": 3
   },
   "file_extension": ".py",
   "mimetype": "text/x-python",
   "name": "python",
   "nbconvert_exporter": "python",
   "pygments_lexer": "ipython3",
   "version": "3.8.12"
  }
 },
 "nbformat": 4,
 "nbformat_minor": 5
}
